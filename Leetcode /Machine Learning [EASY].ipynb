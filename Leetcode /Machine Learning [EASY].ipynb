{
 "cells": [
  {
   "cell_type": "markdown",
   "id": "9218cd46-d0f2-4919-b223-fc9b3b74dad9",
   "metadata": {},
   "source": [
    "## Leetcode Machine Lerning Easy "
   ]
  },
  {
   "cell_type": "markdown",
   "id": "9cb3e01e-874c-4213-aa02-c49a2298fb7f",
   "metadata": {},
   "source": [
    "#"
   ]
  },
  {
   "cell_type": "markdown",
   "id": "842ac81e-e18c-441e-93ec-2f18559d1ab7",
   "metadata": {},
   "source": [
    "Problem Name: Linear Regression Using Normal Equation "
   ]
  },
  {
   "cell_type": "markdown",
   "id": "e7dd80f7-0380-4c75-91e4-4f55c648e35e",
   "metadata": {},
   "source": [
    "Write a Python function that performs linear regression using the normal equation. The function should take a matrix X (features) and a vector y (target) as input, and return the coefficients of the linear regression model. Round your answer to four decimal places, -0.0 is a valid result for rounding a very small number."
   ]
  },
  {
   "cell_type": "markdown",
   "id": "fd4e1760-7c9d-48ec-90df-9ea08556b2c6",
   "metadata": {},
   "source": [
    "Example \n",
    "input: X = [[1, 1], [1, 2], [1, 3]], y = [1, 2, 3]\n",
    "        output: [0.0, 1.0]\n",
    "        reasoning: The linear model is y = 0.0 + 1.0*x, perfectly fitting the input data."
   ]
  },
  {
   "cell_type": "code",
   "execution_count": 1,
   "id": "a88392b6-49e0-46b3-8ea6-ffc192ec5b4a",
   "metadata": {},
   "outputs": [],
   "source": [
    "import numpy as np\n",
    "def linear_regression_normal_equation(X: list[list[float]], y: list[float]) -> list[float]:\n",
    "    X = np.array(X)\n",
    "    y = np.array(y).reshape(-1, 1)\n",
    "    X_transpose = X.T\n",
    "    theta = np.linalg.inv(X_transpose.dot(X)).dot(X_transpose).dot(y)\n",
    "    theta = np.round(theta, 4).flatten().tolist()\n",
    "    return theta"
   ]
  },
  {
   "cell_type": "markdown",
   "id": "e0092b65-4705-4ef7-a31a-ff551643b64a",
   "metadata": {},
   "source": [
    "#"
   ]
  },
  {
   "cell_type": "markdown",
   "id": "34306372-0334-4c90-b522-4f0d39bc3f25",
   "metadata": {},
   "source": [
    "Problem: Linear Regression Using Gradient Descent"
   ]
  },
  {
   "cell_type": "markdown",
   "id": "4e98d844-18bd-4f3f-b456-398ca236e791",
   "metadata": {},
   "source": [
    "Write a Python function that performs linear regression using gradient descent. The function should take NumPy arrays X (features with a column of ones for the intercept) and y (target) as input, along with learning rate alpha and the number of iterations, and return the coefficients of the linear regression model as a NumPy array. Round your answer to four decimal places. -0.0 is a valid result for rounding a very small number."
   ]
  },
  {
   "cell_type": "markdown",
   "id": "905b7521-4c52-4b56-ad79-5f532ef5a7e2",
   "metadata": {},
   "source": [
    "Example:\n",
    "        input: X = np.array([[1, 1], [1, 2], [1, 3]]), y = np.array([1, 2, 3]), alpha = 0.01, iterations = 1000\n",
    "        output: np.array([0.1107, 0.9513])\n",
    "        reasoning: The linear model is y = 0.0 + 1.0*x, which fits the input data after gradient descent optimization."
   ]
  },
  {
   "cell_type": "code",
   "execution_count": 2,
   "id": "5dd9ef3c-aae7-479d-a8f6-c176d4c70dde",
   "metadata": {},
   "outputs": [],
   "source": [
    "import numpy as np\n",
    "def linear_regression_gradient_descent(X: np.ndarray, y: np.ndarray, alpha: float, iterations: int) -> np.ndarray:\n",
    "    m, n = X.shape\n",
    "    theta = np.zeros((n, 1))\n",
    "    for _ in range(iterations):\n",
    "        predictions = X @ theta\n",
    "        errors = predictions - y.reshape(-1, 1)\n",
    "        updates = X.T @ errors / m\n",
    "        theta -= alpha * updates\n",
    "    return np.round(theta.flatten(), 4)"
   ]
  },
  {
   "cell_type": "markdown",
   "id": "a2d55740-d880-4081-ba5b-82140e53cb7b",
   "metadata": {},
   "source": [
    "#"
   ]
  },
  {
   "cell_type": "markdown",
   "id": "b975396c-f3a8-43d8-94f3-40c19793b3cf",
   "metadata": {},
   "source": [
    "Problem Number Feature Scaling Implementation"
   ]
  },
  {
   "cell_type": "code",
   "execution_count": 3,
   "id": "7e0f2d13-4a87-4caf-a83b-6fb98d5f395c",
   "metadata": {},
   "outputs": [],
   "source": [
    "def feature_scaling(data: np.ndarray) -> (np.ndarray, np.ndarray):\n",
    "    # Your code here\n",
    "    def scaling(data):\n",
    "      mean = np.mean(data , axis = 0)\n",
    "      std = np.std(data, axis = 0)\n",
    "      result = (data-mean)/std\n",
    "      \n",
    "    def normalize(data):\n",
    "      minvalue = np.min(data , axis = 0)\n",
    "      maxvalue = np.max(data, axis = 0)\n",
    "      result2 = (data - minvalue) * (maxvalue - minvalue) + minvalue/ (maxvalue - minvalue)\n",
    "      \n",
    "    return np.round((standardized_data,4).tolist()), (normalized_data , 4).tolist()"
   ]
  },
  {
   "cell_type": "code",
   "execution_count": null,
   "id": "5705dd62-ac49-4700-a2a5-b1f75559d24b",
   "metadata": {},
   "outputs": [],
   "source": []
  }
 ],
 "metadata": {
  "kernelspec": {
   "display_name": "Python 3 (ipykernel)",
   "language": "python",
   "name": "python3"
  },
  "language_info": {
   "codemirror_mode": {
    "name": "ipython",
    "version": 3
   },
   "file_extension": ".py",
   "mimetype": "text/x-python",
   "name": "python",
   "nbconvert_exporter": "python",
   "pygments_lexer": "ipython3",
   "version": "3.11.7"
  }
 },
 "nbformat": 4,
 "nbformat_minor": 5
}
